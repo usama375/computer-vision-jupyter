{
 "cells": [
  {
   "cell_type": "markdown",
   "id": "5919e9c8-7d3a-4e3a-9187-6a0dd68db982",
   "metadata": {},
   "source": [
    "# 7.4 Multilayer Perceptron for Classification\n",
    "\n",
    "**A Multilayer Perceptron (MLP)** is a type of artificial neural network that consists of an input layer, one or more hidden layers, and an output layer. It is a powerful model used for supervised learning tasks, such as classification and regression.\n",
    "\n",
    "Each neuron in the MLP applies a nonlinear activation function to a weighted sum of its inputs, allowing the network to learn complex patterns in the data. During **training**, by using backpropagation, the MLP adjusts the weights of connections in the network to minimize the error between predicted and actual values. During **inference**, the MLP is faced with new input data, producing an inference result.\n",
    "\n",
    "MLPs are particularly effective for solving classification problems where the relationship between inputs and outputs is non-linear. In this notebook, we will use an MLP to classify iris flowers into three different species, and breast cancer cases as either malignant or benign, based on a set of features. For that, we will first explore the data we are going to work with (<a href=\"#741\">section 7.4.1</a>), then the **Perceptron model** (the building block of many neural networks, <a href=\"#742\">section 7.4.2</a>), and finally the **Multilayer Perceptron** (<a href=\"#743\">section 7.4.3</a>). \n",
    "\n",
    "This will be doing in the context of the [scikit-learn library](https://scikit-learn.org/stable/index.html), an open source software for predictive analysis.\n"
   ]
  },
  {
   "cell_type": "markdown",
   "id": "05437765-2ba5-40d1-ae56-1ebccd7876d4",
   "metadata": {},
   "source": [
    "## Problem Context: Iris and Breast Cancer Classification\n",
    "\n",
    "In this notebook, you will have the option to explore two different classification tasks using machine learning:\n",
    "\n",
    "### 1. Iris Classification:\n",
    "The **Iris dataset** is a classic dataset used in machine learning and statistics. It contains 150 samples from three different species of Iris flowers: Setosa, Versicolor, and Virginica. Each sample has four features:\n",
    "- Sepal length\n",
    "- Sepal width\n",
    "- Petal length\n",
    "- Petal width\n",
    "\n",
    "The task is to build a classifier that can predict the species of an Iris flower based on these four features. The target classes are:\n",
    "- **0**: Setosa\n",
    "- **1**: Versicolor\n",
    "- **2**: Virginica\n",
    "\n",
    "This is a **multiclass classification problem** where the goal is to distinguish between the three flower species. An interesting fact is that one class is linearly separable from the other 2, but the latter are not linearly separable from each other. \n",
    "\n",
    "For your reference, here an example of each specie:\n",
    "\n",
    "<center><img width=\"600\" src=\"https://s3.amazonaws.com/assets.datacamp.com/blog_assets/Machine+Learning+R/iris-machinelearning.png\" alt=\"iris\" class=\"centerimage\">\n",
    "<br /> Image from <i>Machine Learning in R for beginners</i>.</center>\n",
    "\n",
    "### 2. Breast Cancer Classification:\n",
    "The **Breast Cancer dataset** is focused on medical diagnosis, aiming to classify whether a breast tumor is malignant (cancerous) or benign (non-cancerous) based on the features derived from a digitized image of a fine needle aspirate of a breast mass. This dataset includes 30 features that describe the characteristics of the cell nuclei, such as radius, texture, and smoothness. \n",
    "\n",
    "The target classes in this dataset are:\n",
    "- **0**: Malignant\n",
    "- **1**: Benign\n",
    "\n",
    "This is a **binary classification problem** where the goal is to correctly classify tumors as malignant or benign based on the input features.\n",
    "\n",
    "### Why these datasets? \n",
    "\n",
    "Because they were or could be obtained using computer vision techniques. In both cases, the regions of interest could be segmentend and then characterized through a number of features.\n",
    "\n",
    "**We encourage you** to take a look at their description in the scikit-learn page. They are part of the **Toy examples** collection, which can be accessed [here](https://scikit-learn.org/stable/datasets/toy_dataset.html#toy-datasets). On the other hand, there are also larger datasets, listed in the **Real world datasets** collection available [here](https://scikit-learn.org/stable/datasets/real_world.html#real-world-datasets).\n",
    "\n",
    "The world wide web is full of datasets, there are platforms like [kaggle](https://www.kaggle.com/) that are a good entry point to this world.\n",
    "\n",
    "### Your Task:\n",
    "- You will use a **Perceptron** (a single-layer neural network) and a **Multilayer Perceptron (MLP)** (a deep neural network with hidden layers) to classify both datasets.\n",
    "- You can select which dataset you'd like to work with first and explore the performance of both models on these two datasets.\n"
   ]
  },
  {
   "cell_type": "code",
   "execution_count": 1,
   "id": "529ee6ad-8e8c-47ee-b486-40c243377e2c",
   "metadata": {},
   "outputs": [],
   "source": [
    "# Step 1: Import necessary libraries\n",
    "import numpy as np\n",
    "import matplotlib.pyplot as plt\n",
    "from sklearn.datasets import load_breast_cancer\n",
    "from sklearn.datasets import load_wine\n",
    "from sklearn.datasets import load_iris\n",
    "from sklearn.model_selection import train_test_split\n",
    "from sklearn.preprocessing import StandardScaler\n",
    "from sklearn.linear_model import Perceptron \n",
    "from sklearn.neural_network import MLPClassifier\n",
    "from sklearn.metrics import classification_report, confusion_matrix, accuracy_score"
   ]
  },
  {
   "cell_type": "markdown",
   "id": "9d02b0f3-84a9-4788-a932-ae03c6d4aea3",
   "metadata": {},
   "source": [
    "## 7.4.1 Loading and analyzing the datasets <a id=\"741\"></a>\n",
    "\n",
    "Let's load a dataset and take a look at its content. We will start working with the Iris dataset and we recommend you to complete the notebook with this one. Once completed, you can change to the Breast cancer classification or any other. Up to you!"
   ]
  },
  {
   "cell_type": "code",
   "execution_count": 2,
   "id": "1cce92c3-3458-4504-9bb0-08349989c1ee",
   "metadata": {},
   "outputs": [
    {
     "name": "stdout",
     "output_type": "stream",
     "text": [
      "Number of samples: 150\n",
      "Number of features: 4\n",
      "Feature names: ['sepal length (cm)', 'sepal width (cm)', 'petal length (cm)', 'petal width (cm)']\n",
      "Target classes: [0 1 2]\n",
      "First 5 samples (feature vectors):\n",
      "[[5.1 3.5 1.4 0.2]\n",
      " [4.9 3.  1.4 0.2]\n",
      " [4.7 3.2 1.3 0.2]\n",
      " [4.6 3.1 1.5 0.2]\n",
      " [5.  3.6 1.4 0.2]]\n",
      "Corresponding labels:\n",
      "[0 0 0 0 0]\n"
     ]
    }
   ],
   "source": [
    "# Load the dataset\n",
    "\n",
    "# Iris dataset\n",
    "iris_data = load_iris()\n",
    "X = iris_data.data  # Features\n",
    "y = iris_data.target  # Target labels\n",
    "feature_names = iris_data.feature_names\n",
    "\n",
    "# Breast cancer dataset\n",
    "# breast_cancer_data = load_breast_cancer()\n",
    "# X = breast_cancer_data.data  # Features (30-dimensional feature vectors)\n",
    "# y = breast_cancer_data.target  # Target labels (0: malignant, 1: benign)\n",
    "# feature_names = breast_cancer_data.feature_names\n",
    "\n",
    "# wine_data = load_wine()\n",
    "# X = wine_data.data  # Features (13-dimensional feature vectors)\n",
    "# y = wine_data.target  # Target labels (0, 1, or 2, representing different wine classes)\n",
    "# feature_names = wine_data.feature_names\n",
    "\n",
    "# Display basic information about the dataset\n",
    "print(f\"Number of samples: {X.shape[0]}\")\n",
    "print(f\"Number of features: {X.shape[1]}\")\n",
    "print(f\"Feature names: {feature_names}\")\n",
    "print(f\"Target classes: {np.unique(y)}\")\n",
    "\n",
    "# Show the first 5 samples and their corresponding labels\n",
    "print(\"First 5 samples (feature vectors):\")\n",
    "print(X[:5])\n",
    "print(\"Corresponding labels:\")\n",
    "print(y[:5])"
   ]
  },
  {
   "cell_type": "markdown",
   "id": "f1dbb19e-fc1c-4c24-8a31-8d31c01f7a14",
   "metadata": {},
   "source": [
    "### **<span style=\"color:green\"><b><i>ASSIGNMENT 1: Feature scaling</i></b></span>**\n",
    "\n",
    "First of all, let's start by investigating the range of the different features of the dataset. \n",
    "\n",
    "You are tasked to:\n",
    "- Compute the minimum and maximum value of each feature.\n",
    "- Represent their dispersion using a [boxplot](https://matplotlib.org/stable/api/_as_gen/matplotlib.pyplot.boxplot.html).\n",
    "- Think about the obtained results."
   ]
  },
  {
   "cell_type": "code",
   "execution_count": 3,
   "id": "9ccbd109-c75c-494a-bafd-384d4b75daf2",
   "metadata": {},
   "outputs": [
    {
     "name": "stdout",
     "output_type": "stream",
     "text": [
      "Feature minimums: [4.3 2.  1.  0.1]\n",
      "Feature maximums: [7.9 4.4 6.9 2.5]\n"
     ]
    },
    {
     "data": {
      "image/png": "[encoded data removed]",
      "text/plain": [
       "<Figure size 800x600 with 1 Axes>"
      ]
     },
     "metadata": {},
     "output_type": "display_data"
    }
   ],
   "source": [
    "# Display the minimum and maximum values of each feature\n",
    "print(\"Feature minimums:\", None.min(axis=0))\n",
    "print(\"Feature maximums:\", None.max(axis=0))\n",
    "\n",
    "# Create a box plot for each feature\n",
    "plt.figure(figsize=(8, 6))\n",
    "\n",
    "# Create a box plot, each feature on the x-axis\n",
    "plt.boxplot(None, labels=None)\n",
    "\n",
    "# Add labels and title\n",
    "plt.title('Feature Value Distribution by Feature Type in the Iris Dataset')\n",
    "plt.ylabel('Feature Value')\n",
    "\n",
    "# Show the plot\n",
    "plt.tight_layout()\n",
    "plt.show()"
   ]
  },
  {
   "cell_type": "markdown",
   "id": "a29d2028-d598-44d8-a582-76b9bd645899",
   "metadata": {},
   "source": [
    "<font color='blue'>**Expected output (with Iris dataset):**  </font>\n",
    "\n",
    "    Feature minimums: [4.3 2.  1.  0.1]\n",
    "    Feature maximums: [7.9 4.4 6.9 2.5]"
   ]
  },
  {
   "cell_type": "markdown",
   "id": "abb82d47-54a6-4445-bb1c-3f602321808a",
   "metadata": {},
   "source": [
    "The Perceptron and MLP models, as many other machine learning techniques, face problems if the input data is **unscaled**. As you have experienced, input features in real-world datasets often vary widely in terms of their value ranges. These differences in scale cause problems because the learning process in neural networks relies heavily on gradient-based optimization algorithms, such as stochastic gradient descent (SGD).\n",
    "\n",
    "If the features have different ranges, the model may struggle to balance the influence of each feature, causing several issues:\n",
    "\n",
    "- Unequal updates to weights.\n",
    "- Slow convergence.\n",
    "- Vanishing or exploiding gradients.\n",
    "\n",
    "To address this, we perform a **preprocessing step** to **scale** the input data so that all features have the same range  [**(more info here)**](https://scikit-learn.org/stable/auto_examples/preprocessing/plot_scaling_importance.html#sphx-glr-auto-examples-preprocessing-plot-scaling-importance-py). Two common methods are **standarization**, where each feature is rescaled to have a mean of 0 and a standard deviation of 1, and **normalization**, where each feature is rescaled to fit within a specific range, typically $[0, 1]$.\n",
    "\n",
    "We will play with standarization, which computes the new feature values as:\n",
    "\n",
    "$$ x' = \\frac{x-\\mu}{\\sigma}$$\n",
    "\n",
    "where:\n",
    "- $x$ is the original feature value,\n",
    "- $\\mu$ is the mean of the feature,\n",
    "- $\\sigma$ is the standard deviation of the feature.\n",
    "\n",
    "You **are tasked to** complete the following code so:\n",
    "\n",
    "- It splits the dataset into training and testing data with `train_test_split()` [(docs)](https://scikit-learn.org/stable/modules/generated/sklearn.model_selection.train_test_split.html), \n",
    "- Then normalizes the features' values using an instance of the `StandardScaler` class [(docs)](https://scikit-learn.org/stable/modules/generated/sklearn.preprocessing.StandardScaler.html). First fit the scaler with the training features, and then transform the testing one as well.\n",
    "- Finally, it shows the feature values of the first 5 samples in the training data scaled. Complete it!"
   ]
  },
  {
   "cell_type": "code",
   "execution_count": 4,
   "id": "f40eb19e-89da-48fe-868b-5c5ce1988e2f",
   "metadata": {},
   "outputs": [
    {
     "name": "stdout",
     "output_type": "stream",
     "text": [
      "First 5 rows of the scaled training data:\n",
      "[[-0.4134164  -1.46200287 -0.09951105 -0.32339776]\n",
      " [ 0.55122187 -0.50256349  0.71770262  0.35303182]\n",
      " [ 0.67180165  0.21701605  0.95119225  0.75888956]\n",
      " [ 0.91296121 -0.02284379  0.30909579  0.2177459 ]\n",
      " [ 1.63643991  1.41631528  1.30142668  1.70589097]]\n"
     ]
    }
   ],
   "source": [
    "# Split the data into training and testing sets\n",
    "X_train, X_test, y_train, y_test = train_test_split(None, \n",
    "                                                    None, \n",
    "                                                    test_size=0.3, random_state=42)\n",
    "\n",
    "# Standardize the features using StandardScaler\n",
    "scaler = StandardScaler()\n",
    "X_train_scaled = scaler.fit_transform(None)\n",
    "X_test_scaled = scaler.transform(None)\n",
    "\n",
    "# Display the first 5 rows of the scaled data to check\n",
    "print(\"First 5 rows of the scaled training data:\")\n",
    "print(None)"
   ]
  },
  {
   "cell_type": "markdown",
   "id": "c0eee530-cc46-45af-a64d-4c60a05a1916",
   "metadata": {},
   "source": [
    "<font color='blue'>**Expected output (with Iris dataset):**  </font>\n",
    "\n",
    "    First 5 rows of the scaled training data:\n",
    "    [[-0.4134164  -1.46200287 -0.09951105 -0.32339776]\n",
    "     [ 0.55122187 -0.50256349  0.71770262  0.35303182]\n",
    "     [ 0.67180165  0.21701605  0.95119225  0.75888956]\n",
    "     [ 0.91296121 -0.02284379  0.30909579  0.2177459 ]\n",
    "     [ 1.63643991  1.41631528  1.30142668  1.70589097]]"
   ]
  },
  {
   "cell_type": "markdown",
   "id": "a44c0d5e-376a-4fcd-add8-60590cbc270f",
   "metadata": {},
   "source": [
    "## 7.4.2 Perceptron: The Building Block of Neural Networks <a id=\"742\"></a>\n",
    "\n",
    "A **Perceptron** is the simplest form of a neural network and can be seen as a single neuron. It is a linear classifier that makes predictions by applying a linear combination of inputs and weights, followed by a threshold (or step) function to produce a **binary output**, so it is applied to two-class problems.\n",
    "\n",
    "### The Math Behind the Perceptron\n",
    "\n",
    "For a given input vector of features $ \\mathbf{\\tilde{x}} = [x_1, x_2, ..., x_n, 1]^T $ and a corresponding weight vector $ \\mathbf{w} = [w_1, w_2, ..., w_n, w_{n+1}]^T $, the perceptron computes a weighted sum of the inputs, called **pre-activation**:\n",
    "\n",
    "$$\n",
    "z = \\sum_{i=1}^{n+1} w_i \\tilde{x}_i = \\mathbf{w}^T \\mathbf{\\tilde{x}}\n",
    "$$\n",
    "\n",
    "You can also find in the literature definitions where the last weight, $w_{n+1}$, is left out and denoted $b$. At any case, it plays the role of a **bias term**, which allows the decision boundary to be shifted.\n",
    "\n",
    "Once the weighted sum $ z $ is computed, the Perceptron applies an activation function $a(z)$ to determine the output:\n",
    "\n",
    "$$\n",
    "\\hat{y} = a(\\mathbf{w}^T \\mathbf{\\tilde{x}}) \\in \\{0,1\\}\n",
    "$$\n",
    "\n",
    "Visually:\n",
    "\n",
    "<center><img src=\"./images/perceptron.jpg\" alt=\"perceptron_structure\" class=\"centerimage\"></center>\n",
    "\n",
    "The traditional activation function for a Perceptron is the **step function**, which outputs:\n",
    "\n",
    "$$\n",
    "\\hat{y} = \\begin{cases}\n",
    "1 & \\text{if } z > 0 \\\\\n",
    "0 & \\text{otherwise}\n",
    "\\end{cases}\n",
    "$$\n",
    "\n",
    "### Perceptron Learning\n",
    "\n",
    "During training, the Perceptron updates its weights using the following rule:\n",
    "\n",
    "$$\n",
    "w_i \\leftarrow w_i + \\Delta w_i\n",
    "$$\n",
    "\n",
    "Where the weight update $\\Delta w_i$ is calculated as:\n",
    "\n",
    "$$\n",
    "\\Delta w_i = \\eta \\cdot e_i \\cdot x_i = \\eta \\cdot (y - \\hat{y}) \\cdot x_i\n",
    "$$\n",
    "\n",
    "Here:\n",
    "- $ y $ is the true label.\n",
    "- $ \\hat{y} $ is the predicted label.\n",
    "- $ \\eta $ is the learning rate, a scalar that controls how much the weights are adjusted with each step.\n",
    "\n",
    "If the Perceptron makes an incorrect prediction (i.e., $ y \\neq \\hat{y} $), the weights are adjusted in the direction that reduces the prediction error.\n",
    "\n",
    "### Extension to Multiclass problems\n",
    "\n",
    "In scenario wehere there are more than two classes to classify a sample into, the perceptron can still be used to do the work. The idea here is to train one perceptron for each class, while keeping the same input layer. Notice that the activation functions are still linear! \n",
    "\n",
    "The classification criteria in this case is as follows:\n",
    "\n",
    "$$\n",
    "\\hat{y} = \\begin{cases}\n",
    "C_j & \\text{if } \\hat{y}_j=1 \\text{ and } \\hat{y}_k=0 \\, \\forall k \\neq j \\\\\n",
    "\\text{undetermined} & \\text{otherwise}\n",
    "\\end{cases}\n",
    "$$\n",
    "\n",
    "Visually:\n",
    "\n",
    "<center><img src=\"./images/perceptron_multiclass.jpg\" alt=\"perceptron_multiclass\" class=\"centerimage\"></center>\n"
   ]
  },
  {
   "cell_type": "markdown",
   "id": "2f23f493-bfe1-4b4e-a29f-d0ef74ab6466",
   "metadata": {},
   "source": [
    "### **<span style=\"color:green\"><b><i>ASSIGNMENT 2: Testing Perceptron</i></b></span>**\n",
    "\n",
    "Once we have the data ready, and we have reviewed the principles behind the Perceptron, it's time to train a model and check its performance.\n",
    "\n",
    "Scikit-learn provides the `Perceptron` class [(docs)](https://scikit-learn.org/stable/modules/generated/sklearn.linear_model.Perceptron.html), which permits you to create instances of this model. Its constructor has many parameters, but perhaps the more relevant at this point are:\n",
    "\n",
    "- `max_iter (int, default=1000)`: \n",
    "The maximum number of passes over the training data (aka epochs) to train the model.\n",
    "- `tol (float or None, default=1e-3)`: \n",
    "The stopping criterion. If it is not None, the iterations will stop when (loss > previous_loss - tol).\n",
    "- `random_state (int, RandomState instance or None, default=0)`:  Pass an int for reproducible output across multiple function calls. More info [here](https://scikit-learn.org/dev/glossary.html#term-random_state).\n",
    "\n",
    "Then, the method `fit()` permits you to fit the model using training data, while `predict()` permits you to do inference with new data, in this case `X_test_scaled`.\n",
    "\n",
    "**Complete the following code** to create the model object and train it. To check that your results are right, do it with a maximun number of iterations of 1000, a tolerance of $1e-3$, and a random state of 42. Take a look at the shape of the model coeficients, which stores the fitted weights."
   ]
  },
  {
   "cell_type": "code",
   "execution_count": 5,
   "id": "a85104d7-7d1d-47ee-82bb-dbd317a2cfc5",
   "metadata": {},
   "outputs": [
    {
     "name": "stdout",
     "output_type": "stream",
     "text": [
      "Model shape:  (3, 4)\n",
      "Intercepts:  (3,)\n"
     ]
    }
   ],
   "source": [
    "# Initialize the Perceptron model (single-layer neural network)\n",
    "perceptron_model = Perceptron(None, \n",
    "                              None, \n",
    "                              None)\n",
    "\n",
    "# Train the Perceptron model on the scaled training data\n",
    "perceptron_model.fit(None, None)\n",
    "\n",
    "print('Model shape: ',perceptron_model.coef_.shape)\n",
    "print('Intercepts: ',perceptron_model.intercept_.shape) # Weights associated to the bias term (the 1)"
   ]
  },
  {
   "cell_type": "markdown",
   "id": "e7e44eb5-722c-4960-8f4e-9f5101340444",
   "metadata": {},
   "source": [
    "Now it's time to check the model's performance. For that:\n",
    "- Compute the predictions for the flowers described in `X_test_scaled`.\n",
    "- Measure the performance with the following metrics:\n",
    "  - Accuracy, with `accuracy_score()` [(docs)](https://scikit-learn.org/stable/modules/generated/sklearn.metrics.accuracy_score.html),\n",
    "  - The popular confusion matrix, with `confusion_matrix()` [(docs)](https://scikit-learn.org/stable/modules/generated/sklearn.metrics.confusion_matrix.html), \n",
    "  - And print a classification report with `classification_report()`[(docs)](https://scikit-learn.org/stable/modules/generated/sklearn.metrics.classification_report.html)."
   ]
  },
  {
   "cell_type": "code",
   "execution_count": 6,
   "id": "740a5e84-478e-4dce-aab7-8431d71bd6f4",
   "metadata": {},
   "outputs": [
    {
     "name": "stdout",
     "output_type": "stream",
     "text": [
      "Perceptron Accuracy: 0.8889\n",
      "\n",
      "Confusion Matrix:\n",
      "[[19  0  0]\n",
      " [ 1  8  4]\n",
      " [ 0  0 13]]\n",
      "\n",
      "Classification Report:\n",
      "              precision    recall  f1-score   support\n",
      "\n",
      "           0       0.95      1.00      0.97        19\n",
      "           1       1.00      0.62      0.76        13\n",
      "           2       0.76      1.00      0.87        13\n",
      "\n",
      "    accuracy                           0.89        45\n",
      "   macro avg       0.90      0.87      0.87        45\n",
      "weighted avg       0.91      0.89      0.88        45\n",
      "\n"
     ]
    }
   ],
   "source": [
    "# Make predictions using the trained Perceptron on the test data\n",
    "y_pred_perceptron = perceptron_model.predict(None)\n",
    "\n",
    "# Evaluate the accuracy of the Perceptron model\n",
    "accuracy_perceptron = accuracy_score(None, None)\n",
    "print(f\"Perceptron Accuracy: {accuracy_perceptron:.4f}\")\n",
    "\n",
    "# Display the confusion matrix\n",
    "print(\"\\nConfusion Matrix:\")\n",
    "print(confusion_matrix(None, None))\n",
    "\n",
    "# Display the classification report\n",
    "print(\"\\nClassification Report:\")\n",
    "print(classification_report(None, None))"
   ]
  },
  {
   "cell_type": "markdown",
   "id": "1ef56c48-c70c-4e7b-b299-b2469b96b1fb",
   "metadata": {},
   "source": [
    "<font color='blue'>**Expected output (with Iris dataset and the proposed parameters):**  </font>\n",
    "\n",
    "```\n",
    "Perceptron Accuracy: 0.8889\n",
    "\n",
    "Confusion Matrix:\n",
    "[[19  0  0]\n",
    " [ 1  8  4]\n",
    " [ 0  0 13]]\n",
    "\n",
    "Classification Report:\n",
    "              precision    recall  f1-score   support\n",
    "\n",
    "           0       0.95      1.00      0.97        19\n",
    "           1       1.00      0.62      0.76        13\n",
    "           2       0.76      1.00      0.87        13\n",
    "\n",
    "    accuracy                           0.89        45\n",
    "   macro avg       0.90      0.87      0.87        45\n",
    "weighted avg       0.91      0.89      0.88        45\n",
    "```"
   ]
  },
  {
   "cell_type": "markdown",
   "id": "8177e866-c594-4a1c-a62e-f152c6f56b33",
   "metadata": {},
   "source": [
    "### <font color=\"blue\"><b><i>Thinking about it (1)</i></b></font>\n",
    "\n",
    "Given your growing expertise with Perceptron, **answer this questions:**\n",
    "\n",
    "- What is the shape of the resulting model? Why? Analyze it for both Iris and Breast cancer datasets.\n",
    "\n",
    "    <p style=\"margin: 4px 0px 6px 5px; color:blue\"><i>Your answer here!</i></p>\n",
    "    \n",
    "- What do you think about the Perceptron accuracy when working with the Iris dataset? How could it be improved?\n",
    "\n",
    "    <p style=\"margin: 4px 0px 6px 5px; color:blue\"><i>Your answer here!</i></p>\n",
    "\n",
    "- In the confusion matrix, which is the number of Versicolor flowers classified as Virginica?\n",
    "\n",
    "    <p style=\"margin: 4px 0px 6px 5px; color:blue\"><i>Your answer here!</i></p>\n",
    "\n",
    "- If the model had achieved 100% accuracy, what would the confusion matrix look like?\n",
    "\n",
    "    <p style=\"margin: 4px 0px 6px 5px; color:blue\"><i>Your answer here!</i></p>\n",
    "\n",
    "- Take a look at the classification report. What precision, recall, f1-score and support mean? And the average values?\n",
    "\n",
    "    <p style=\"margin: 4px 0px 6px 5px; color:blue\"><i>Your answer here!</i></p>"
   ]
  },
  {
   "cell_type": "markdown",
   "id": "9d198ec7-4022-4a33-aa4a-c67cef7088cc",
   "metadata": {},
   "source": [
    "### Limitations\n",
    "\n",
    "The Perceptron is limited because it can only learn linearly separable problems. If the data is not linearly separable (as is often the case with complex datasets), the Perceptron will struggle to find an accurate solution. This limitation leads to the need for Multilayer Perceptrons (MLPs), which can model non-linear relationships by adding more neurons and layers."
   ]
  },
  {
   "cell_type": "markdown",
   "id": "e8a0612d-e9a5-4a2a-86c5-bfdf72a7b535",
   "metadata": {},
   "source": [
    "## 7.4.3 Multilayer Perceptron (MLP) <a id=\"743\"></a>\n",
    "\n",
    "A **Multilayer Perceptron (MLP)** is an extension of the Perceptron, capable of solving more complex, non-linear problems by introducing multiple layers of neurons and non-linear activation functions. Unlike a single-layer Perceptron, which can only handle linearly separable data, MLPs can approximate any continuous function, thanks to the introduction of **hidden layers**.\n",
    "\n",
    "### Architecture of an MLP\n",
    "\n",
    "An MLP consists of:\n",
    "1. **Input layer**: Receives the input features.\n",
    "2. **Hidden layer(s)**: One or more layers where neurons apply non-linear transformations.\n",
    "3. **Output layer**: Provides the final prediction, typically using an activation function suited to the task (e.g., softmax for classification).\n",
    "\n",
    "The key difference between an MLP and a simple Perceptron is the presence of one or more hidden layers, which allow the network to model more complex relationships."
   ]
  },
  {
   "cell_type": "markdown",
   "id": "2cecaf89-7e95-4493-9c4e-2641fb334d02",
   "metadata": {},
   "source": [
    "### Mathematical Representation\n",
    "\n",
    "Let’s consider a layer of neurons in a hidden or output layer. The input to the MLP is the feature vector $ \\mathbf{\\hat{x}} \\in \\mathbb{R}^n $, where $n$ is the number of features plus one. Suppose we have a hidden layer with $m$ neurons, and $ \\mathbf{w}_j^{[l]} = [w_{j1}^{[l]}, w_{j2}^{[l]}, ..., w_{jn}^{[l]}, w_{j(n+1)}^{[l]}]^T $ represents the weight vector of the $j$-th neuron in layer $l$. The pre-activation value $ z_j^{[l]} $ for the $j$-th neuron in layer $l$ is:\n",
    "\n",
    "$$\n",
    "z_j^{[l]} = \\sum_{i=1}^{n+1} w_{ji}^{[l]} \\tilde{a}_i^{[l-1]} = {\\mathbf{w}_j^{[l]}}^T \\mathbf{\\tilde{a}}^{[l-1]}\n",
    "$$\n",
    "\n",
    "Where:\n",
    "- $ \\mathbf{a}^{[l-1]} $ is the output of the previous layer (or the input features for the first hidden layer), plus a 1.\n",
    "- $n$ is the number of inputs to the layer (either the number of features in the input layer or the number of neurons in the previous hidden layer).\n",
    "\n",
    "The activation function $ g(z) $ is applied to the pre-activation value $ z_j^{[l]} $ to produce the output (or activation) of the neuron:\n",
    "\n",
    "$$\n",
    "a_j^{[l]} = g(z_j^{[l]}) = g({\\mathbf{w}_j^{[l]}}^T \\mathbf{\\tilde{a}}^{[l-1]})\n",
    "$$\n",
    "\n",
    "For an entire layer of $m$ neurons, we can represent this compactly using matrix notation:\n",
    "\n",
    "$$\n",
    "\\mathbf{z}^{[l]} = \\mathbf{W}^{[l]} \\mathbf{\\tilde{a}}^{[l-1]} \n",
    "$$\n",
    "\n",
    "Where $ \\mathbf{W}^{[l]} $ is an $ m \\times (n+1) $ weight matrix for layer $l$, where each row corresponds to the weight vector of a neuron in the layer.\n",
    "\n",
    "Finally, the activation function is applied element-wise to $ \\mathbf{z}^{[l]} $ to obtain the activations for all neurons in the layer:\n",
    "\n",
    "$$\n",
    "\\mathbf{a}^{[l]} = g(\\mathbf{z}^{[l]})\n",
    "$$"
   ]
  },
  {
   "cell_type": "markdown",
   "id": "cc425388-3c66-4f0c-bc3d-184bbabbf430",
   "metadata": {},
   "source": [
    "### Activation Functions\n",
    "\n",
    "Activation functions introduce non-linearity, allowing the MLP to model more complex patterns. Common activation functions include:\n",
    "\n",
    "- **Sigmoid**: $ g(z) = \\frac{1}{1 + e^{-z}} $\n",
    "- **ReLU (Rectified Linear Unit)**: $ g(z) = \\max(0, z) $\n",
    "- **Tanh**: $ g(z) = \\frac{e^{z} - e^{-z}}{e^{z} + e^{-z}} $\n",
    "\n",
    "For classification tasks, the output layer often uses the **softmax** function to convert raw outputs into probabilities:\n",
    "\n",
    "$$\n",
    "\\text{softmax}(z_i) = \\frac{e^{z_i}}{\\sum_{j} e^{z_j}}\n",
    "$$\n",
    "\n",
    "Te following figure shows an example of an MLP that classifies among 3 classes with one hidden layer with two neurons (notice that notation slighlty differs since here we have represented the layer of a neuron as a superscript):\n",
    "\n",
    "<br>\n",
    "<center><img src=\"./images/perceptron_multilayer.jpg\" alt=\"perceptron_multilayer\" class=\"centerimage\"></center>"
   ]
  },
  {
   "cell_type": "markdown",
   "id": "d073e67b-62c1-489c-98d5-e645e356852c",
   "metadata": {},
   "source": [
    "### Backpropagation and Learning\n",
    "\n",
    "MLPs are trained using **backpropagation**, which computes the gradient of the loss function with respect to the model's weights and biases. The gradients are used to update the parameters using **gradient descent**.\n",
    "\n",
    "#### Loss Function\n",
    "\n",
    "For classification tasks, the loss function is often the **cross-entropy loss**. Given a training sample i:\n",
    "\n",
    "$$\n",
    "L_i(\\mathbf{W})= -y_i \\ln(\\hat{y}_i(\\mathbf{W}))\n",
    "$$\n",
    "\n",
    "Where:\n",
    "- $ y_i $ is the true label (one-hot encoded, e.g, $y_i=[0,\\dots,1,\\dots,0]$).\n",
    "- $ \\hat{y}_i $ is the vector of predicted probabilitie for each class.\n",
    "\n",
    "Cross-entropy measures the difference between the true labels and the predicted probabilities in classification tasks, penalizing confident but incorrect predictions more heavily while rewarding confident and correct ones.\n",
    "\n",
    "This way, the goal is to minimize the average of the loss across all the $N$ samples in the dataset, which is called the **cost function**:\n",
    "\n",
    "$$\n",
    "\\hat{W} = \\text{argmin}_\\mathbf{W} L(\\mathbf{W}) = \\text{argmin}_\\mathbf{W} \\frac{1}{N}\\sum_{j=1}^N L_j\n",
    "$$\n",
    "\n",
    "#### Weight Update Rule\n",
    "\n",
    "The weights are updated as follows:\n",
    "\n",
    "$$\n",
    "w^{[l]} \\leftarrow w^{[l]} - \\eta \\frac{\\partial L}{\\partial w^{[l]}}\n",
    "$$\n",
    "\n",
    "Where:\n",
    "- $ \\eta $ is the learning rate.\n",
    "- $ \\frac{\\partial L}{\\partial w^{[l]}} $ is the gradient of the loss with respect to the weights at layer $ l $.\n",
    "\n",
    "The backpropagation algorithm ensures that the gradients are propagated backward from the output layer to the input layer, updating the parameters at each step."
   ]
  },
  {
   "cell_type": "markdown",
   "id": "0bf7ba20-e592-4fbf-a95d-92b02883461b",
   "metadata": {},
   "source": [
    "### **<span style=\"color:green\"><b><i>ASSIGNMENT 3: MLP training and model analysis</i></b></span>**\n",
    "\n",
    "Scikit-learn provides the class `MLPClassifier` that implements a multi-layer perceptron (MLP) algorithm that trains using gradient descent and Backpropagation with Corss-Entropy loss function.\n",
    "\n",
    "This class accepts many parameters in its constructor. You can explore them [here](https://scikit-learn.org/dev/modules/generated/sklearn.neural_network.MLPClassifier.html#sklearn.neural_network.MLPClassifier.predict_proba), but some relevant are:\n",
    "\n",
    "- `hidden_layer_sizes (array-like)`: represents the number of neurons in the ith **hidden layer**. For example if you want to design a network with 5 neurons in the first hidden layer and 4 in the second one, you must introduce `(5,4)`. Hint: The number of neurons in the **output layer** can not be set since it would depend on the number of output categories.\n",
    "- `activation {‘identity’, ‘logistic’, ‘tanh’, ‘relu’}, default=’relu’`: activation function for the hidden layers.\n",
    "- `max_iter (int, default=200)`: maximum number of iterations. Sometimes it's a good idea to increase it.\n",
    "\n",
    "**Complete the following code** to create the model object (`mlp`) and train it. To check if your results are right, design a networ with 10 neurons in the first hidden layer, and 5 in the second one, use ReLu as the activation function, a maximum number of iterations of 1000, and a random state of 42. After checking the results you can try other parameters. It is also reported information about the evolution of the cost function during training."
   ]
  },
  {
   "cell_type": "code",
   "execution_count": 7,
   "id": "df259b5c-6313-4c8e-8ed7-162b1035c7d3",
   "metadata": {},
   "outputs": [
    {
     "name": "stdout",
     "output_type": "stream",
     "text": [
      "Final loss: 0.06797965925841051\n",
      "Number of iterations: 720\n",
      "Best loss: 0.06797965925841051\n"
     ]
    },
    {
     "data": {
      "image/png": "[encoded data removed]",
      "text/plain": [
       "<Figure size 640x480 with 1 Axes>"
      ]
     },
     "metadata": {},
     "output_type": "display_data"
    }
   ],
   "source": [
    "# Initialize and train the MLPClassifier\n",
    "mlp = MLPClassifier(None, \n",
    "                    None, \n",
    "                    None, \n",
    "                    None)\n",
    "\n",
    "mlp.fit(None, None)\n",
    "\n",
    "print(f\"Final loss: {mlp.loss_}\")  # Final loss value after training\n",
    "print(f\"Number of iterations: {mlp.n_iter_}\")  # Number of iterations the model performed\n",
    "print(f\"Best loss: {mlp.best_loss_}\")  # Best loss (when early stopping is used)\n",
    "\n",
    "# Plot the loss curve\n",
    "plt.plot(mlp.loss_curve_)\n",
    "plt.title('Cost Curve During Training')\n",
    "plt.xlabel('Iterations')\n",
    "plt.ylabel('Loss')\n",
    "plt.grid()\n",
    "plt.show()"
   ]
  },
  {
   "cell_type": "markdown",
   "id": "5b0a0f23-b010-41e4-bfa6-5e497bf43ccb",
   "metadata": {},
   "source": [
    "<font color='blue'>**Expected output (with Iris dataset and the proposed parameters):**  </font>\n",
    "\n",
    "```\n",
    "Final loss: 0.06797965925841051\r\n",
    "Number of iterations: 720\r\n",
    "Best loss: 0.06797965925841051\n",
    "```"
   ]
  },
  {
   "cell_type": "markdown",
   "id": "1149a9db-0f93-4ee7-9af8-603d42df1f2e",
   "metadata": {},
   "source": [
    "The model coeficients (**weights**) are stored in the `coefs_` attribute. It provides valuable insight about the network structure, so let's take a closer look at it. Another key attribute is `intercepts_`, which is where the library stores the weights associated with the bias terms (the constant 1s added to the input vector and the activations of each layer)."
   ]
  },
  {
   "cell_type": "code",
   "execution_count": 8,
   "id": "60cf3a5c-15b1-49d5-9744-846a1f53b339",
   "metadata": {},
   "outputs": [
    {
     "name": "stdout",
     "output_type": "stream",
     "text": [
      "Number of hidden layers: 2\n",
      "Size of Weight matrices at each layer\n",
      "(4, 10)\n",
      "(10, 5)\n",
      "(5, 3)\n",
      "Weights associated to bias terms (intercepts):\n",
      "(10,)\n",
      "(5,)\n",
      "(3,)\n"
     ]
    }
   ],
   "source": [
    "print('Number of hidden layers:', len(mlp.coefs_)-1) # We have to substract the output layer\n",
    "\n",
    "print('Size of Weight matrices at each layer')\n",
    "for coef in mlp.coefs_:\n",
    "    print (coef.shape)\n",
    "\n",
    "print('Weights associated to bias terms (intercepts):')\n",
    "for intercept in mlp.intercepts_:\n",
    "    print(intercept.shape)"
   ]
  },
  {
   "cell_type": "markdown",
   "id": "7b5f86e3-dab8-4bc3-bcd5-5c5409f7ec62",
   "metadata": {},
   "source": [
    "<font color='blue'>**Expected output (with Iris dataset and the proposed parameters):**  </font>\n",
    "\n",
    "```\n",
    "Number of hidden layers: 2\n",
    "Size of weight matrices at each layer\n",
    "(4, 10)\n",
    "(10, 5)\n",
    "(5, 3)\n",
    "Weights associated to bias terms (intercepts):\n",
    "(10,)\n",
    "(5,)\n",
    "(3,)\n",
    "```"
   ]
  },
  {
   "cell_type": "markdown",
   "id": "6c176fa7-9d91-4195-942a-9a8e9a162633",
   "metadata": {},
   "source": [
    "### **<span style=\"color:green\"><b><i>ASSIGNMENT 4: Analyzing MLP performance</i></b></span>**\n",
    "\n",
    "**Let's complete the following code** to analyze the model performance. For that:\n",
    "- Call the `predict()` function with the right data.\n",
    "- Show the first 5 predicted labels along with their corresponding true labels.\n",
    "- Prints its accuracy, with `accuracy_score()` [(docs)](https://scikit-learn.org/stable/modules/generated/sklearn.metrics.accuracy_score.html),\n",
    "- The confusion matrix, with `confusion_matrix()` [(docs)](https://scikit-learn.org/stable/modules/generated/sklearn.metrics.confusion_matrix.html), \n",
    "- And the classification report with `classification_report()`[(docs)](https://scikit-learn.org/stable/modules/generated/sklearn.metrics.classification_report.html)."
   ]
  },
  {
   "cell_type": "code",
   "execution_count": 9,
   "id": "cd73f637-b486-42f7-91ea-86ae199e6e20",
   "metadata": {},
   "outputs": [
    {
     "name": "stdout",
     "output_type": "stream",
     "text": [
      "First 5 predicted labels: [1 0 2 1 1]\n",
      "Corresponding true labels: [1 0 2 1 1]\n",
      "Accuracy on the test set: 1.0000\n",
      "Confusion Matrix:\n",
      "[[19  0  0]\n",
      " [ 0 13  0]\n",
      " [ 0  0 13]]\n",
      "\n",
      "Classification Report:\n",
      "              precision    recall  f1-score   support\n",
      "\n",
      "           0       1.00      1.00      1.00        19\n",
      "           1       1.00      1.00      1.00        13\n",
      "           2       1.00      1.00      1.00        13\n",
      "\n",
      "    accuracy                           1.00        45\n",
      "   macro avg       1.00      1.00      1.00        45\n",
      "weighted avg       1.00      1.00      1.00        45\n",
      "\n"
     ]
    }
   ],
   "source": [
    "# Make predictions on the test set\n",
    "y_pred = mlp.predict(None)\n",
    "\n",
    "# Display first 5 predictions\n",
    "print(\"First 5 predicted labels:\", None)\n",
    "print(\"Corresponding true labels:\", None)\n",
    "\n",
    "# Assignment: Calculate and print the accuracy score\n",
    "accuracy = accuracy_score(None, None)\n",
    "print(f\"Accuracy on the test set: {accuracy:.4f}\")\n",
    "\n",
    "# Evaluate the model performance using classification metrics\n",
    "print(\"Confusion Matrix:\")\n",
    "print(confusion_matrix(None, None))\n",
    "\n",
    "print(\"\\nClassification Report:\")\n",
    "print(classification_report(None, None))"
   ]
  },
  {
   "cell_type": "markdown",
   "id": "159ac3d8-8ac6-42d9-b5c9-7552a85a96f8",
   "metadata": {},
   "source": [
    "<font color='blue'>**Expected output (with Iris dataset and the proposed parameters):**  </font>\n",
    "\n",
    "```\n",
    "First 5 predicted labels: [1 0 2 1 1]\n",
    "Corresponding true labels: [1 0 2 1 1]\n",
    "Accuracy on the test set: 1.0000\n",
    "Confusion Matrix:\n",
    "[[19  0  0]\n",
    " [ 0 13  0]\n",
    " [ 0  0 13]]\n",
    "\n",
    "Classification Report:\n",
    "              precision    recall  f1-score   support\n",
    "\n",
    "           0       1.00      1.00      1.00        19\n",
    "           1       1.00      1.00      1.00        13\n",
    "           2       1.00      1.00      1.00        13\n",
    "\n",
    "    accuracy                           1.00        45\n",
    "   macro avg       1.00      1.00      1.00        45\n",
    "weighted avg       1.00      1.00      1.00        45\n",
    "```"
   ]
  },
  {
   "cell_type": "markdown",
   "id": "1903fed5-f0bc-40a3-ba3f-aae2c136d168",
   "metadata": {},
   "source": [
    "### <font color=\"blue\"><b><i>Thinking about it (2)</i></b></font>\n",
    "\n",
    "Given your growing expertise with MLP, **answer this questions:**\n",
    "\n",
    "- How many layers has the trained MLP? Of which type?\n",
    "\n",
    "    <p style=\"margin: 4px 0px 6px 5px; color:blue\"><i>Your answer here!</i></p>\n",
    "    \n",
    "- What is the size of each weight matrix, and how does it relate to the input features, hidden layers, and output classes?\n",
    "\n",
    "    <p style=\"margin: 4px 0px 6px 5px; color:blue\"><i>Your answer here!</i></p>\n",
    "\n",
    "- Given that the output layer has more than a neuron, how is the final MLP output computed?\n",
    "    \n",
    "    <p style=\"margin: 4px 0px 6px 5px; color:blue\"><i>Your answer here!</i></p>\n",
    "\n",
    "\n"
   ]
  },
  {
   "cell_type": "markdown",
   "id": "5ffc0d0a-2adf-41dd-8ed1-ba0c20969b8f",
   "metadata": {},
   "source": [
    "#### A final note on softmax\n",
    "\n",
    "Since the trained model has the `softmax` activation function in the output layer, so you can retrieve probabilities about the classification using the `predict_proba()` function. \n",
    "\n",
    "The following code illustrate this:"
   ]
  },
  {
   "cell_type": "code",
   "execution_count": 10,
   "id": "723640c4-cc8e-4c5b-be5a-30bb3a4248e5",
   "metadata": {},
   "outputs": [
    {
     "name": "stdout",
     "output_type": "stream",
     "text": [
      "softmax\n",
      "Predicted probabilities for the first sample (as percentages): ['0.09%', '97.82%', '2.09%']\n"
     ]
    }
   ],
   "source": [
    "print(mlp.out_activation_)\n",
    "\n",
    "y_pred = mlp.predict_proba([X_test_scaled[0,:]])\n",
    "\n",
    "formatted_probas = [f\"{prob:.2%}\" for prob in y_pred[0]]\n",
    "print(f\"Predicted probabilities for the first sample (as percentages): {formatted_probas}\")"
   ]
  },
  {
   "cell_type": "markdown",
   "id": "fb4e28a0-2eed-4798-8ea5-ff40ea543e52",
   "metadata": {},
   "source": [
    "### **<span style=\"color:green\"><b><i>OPTIONAL</i></b></span>**\n",
    "\n",
    "You can try the Perceptron and MLP performance with any other dataset of your choice. There are may computer vision-related datasets on the internet!  \n",
    "\n",
    "### **<span style=\"color:green\"><b><i>END OF OPTIONAL PART</i></b></span>**"
   ]
  },
  {
   "cell_type": "markdown",
   "id": "5ef71e7a-4893-4060-bf91-37887a28c4d9",
   "metadata": {},
   "source": [
    "### **<span style=\"color:green\"><b><i>OPTIONAL</i></b></span>**\n",
    "\n",
    "scikit-learn has many different classification techniques. You can try other models and see how they perform.\n",
    "\n",
    "### **<span style=\"color:green\"><b><i>END OF OPTIONAL PART</i></b></span>**"
   ]
  },
  {
   "cell_type": "markdown",
   "id": "d36b3c6d-3c3e-4e03-a08d-6ab9823964b1",
   "metadata": {},
   "source": [
    "## Summary\n",
    "In this notebook, we used a Perceptron and a Multilayer Perceptron to classify samples from different datasets, like the Iris flowers species and the Breast Cancer detection. We explored data preprocessing steps, trained those models, and evaluated them. \n",
    "\n",
    "This is just the beginning! The neural networks journey is vast..."
   ]
  }
 ],
 "metadata": {
  "kernelspec": {
   "display_name": "Python 3 (ipykernel)",
   "language": "python",
   "name": "python3"
  },
  "language_info": {
   "codemirror_mode": {
    "name": "ipython",
    "version": 3
   },
   "file_extension": ".py",
   "mimetype": "text/x-python",
   "name": "python",
   "nbconvert_exporter": "python",
   "pygments_lexer": "ipython3",
   "version": "3.10.7"
  }
 },
 "nbformat": 4,
 "nbformat_minor": 5
}
