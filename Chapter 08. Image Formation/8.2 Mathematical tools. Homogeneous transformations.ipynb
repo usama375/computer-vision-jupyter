{
 "cells": [
  {
   "cell_type": "markdown",
   "metadata": {},
   "source": [
    "# 8.2 Mathematical tools for image formation. Homogeneous transformations\n",
    "\n",
    "\n",
    "Homogeneous (also called projective) transformations are linear transformations (i.e. matrix multiplications) **between homogeneous coordinates** (vectors). Such coordinates are obtained from Cartesian (inhomogeneous) vectors by **extending them with a non-negative number** (typically 1, for convenience).\n",
    "\n",
    "Although we are going to explain homogeneous transformations using the 3D space, **this is generalizable to any other number of dimensions**.\n",
    "\n",
    "A 3D vector (or a 3D point) in **inhomogeneous coordinates** looks like:\n",
    "\n",
    "$$\\mathbf{x} = \\begin{bmatrix} x \\\\ y \\\\ z \\end{bmatrix} \\in \\mathbb{R}^3$$\n",
    "\n",
    "while the same vector in **homogeneous coordinates** has the form (note the tilde in the notation):\n",
    "\n",
    "$$\\mathbf{\\tilde{x}} = \\begin{bmatrix} x \\\\ y \\\\ z \\\\ 1 \\end{bmatrix} \\equiv \\begin{bmatrix} \\lambda x \\\\ \\lambda y \\\\ \\lambda z \\\\ \\lambda \\end{bmatrix} \\in \\mathbb{R}^4$$\n",
    "\n",
    "We can go back by dividing the three first coordinates by the fourth:$\\\\[5pt]$\n",
    "\n",
    "$$\\mathbf{\\tilde{x}} = \\begin{bmatrix} \\lambda x \\\\ \\lambda y \\\\ \\lambda z \\\\ \\lambda \\end{bmatrix} \\Rightarrow \\mathbf{x} = \\begin{bmatrix} x/\\lambda \\\\ y/\\lambda \\\\ z/\\lambda \\end{bmatrix} \\in \\mathbb{R}^3$$\n",
    "\n",
    "This way, the family of homogeneous vectors with $\\lambda \\neq 0$ represents the same point in $\\mathbb{R}^3$, since $\\lambda$ doesn't affect. Another consequence of $\\lambda$ is that **any transformation in homogeneous coordinates holds for any scaled matrix**:\n",
    "  \n",
    "$$\n",
    "\\begin{bmatrix} x_1' \\\\ x_2' \\\\ x_3' \\\\ x_4' \\end{bmatrix} \n",
    "= \n",
    "\\begin{bmatrix} p_{11} & p_{12} & p_{13} & p_{14} \\\\ p_{21} & p_{22} & p_{23} & p_{24} \\\\ p_{31} & p_{32} & p_{33} & p_{34} \\\\ p_{41} & p_{42} & p_{43} & p_{44} \\end{bmatrix} \n",
    "\\begin{bmatrix} \\lambda x_1 \\\\ \\lambda x_2 \\\\ \\lambda x_3 \\\\ \\lambda \\end{bmatrix} \n",
    "= \n",
    "\\lambda \n",
    "\\begin{bmatrix} p_{11} & p_{12} & p_{13} & p_{14} \\\\ p_{21} & p_{22} & p_{23} & p_{24} \\\\ p_{31} & p_{32} & p_{33} & p_{34} \\\\ p_{41} & p_{42} & p_{43} & p_{44} \\end{bmatrix}\n",
    "\\begin{bmatrix} x_1 \\\\ x_2 \\\\ x_3 \\\\ 1 \n",
    "\\end{bmatrix} \n",
    "$$\n",
    "\n",
    "Then, the following transformations are equivalent:\n",
    "\n",
    "$$\n",
    "\\begin{bmatrix} 1 & -3 & 2 & 5 \\\\ 4 & 2 & 1 & 2 \\\\ 4 & -1 & 0 & 2 \\\\ -6 & 2 & 1 & 2 \n",
    "\\end{bmatrix} \n",
    "\\equiv \n",
    "\\lambda \n",
    "\\begin{bmatrix} 1 & -3 & 2 & 5 \\\\ 4 & 2 & 1 & 2 \\\\ 4 & -1 & 0 & 2 \\\\ -6 & 2 & 1 & 2 \n",
    "\\end{bmatrix}\n",
    "$$\n",
    "\n",
    "**This indetermination is typically handled by fixing one entry of the matrix**, (e.g. $p_{44} = 1$). Also, these matrices must be non-singular (Rank = 4)."
   ]
  },
  {
   "cell_type": "code",
   "execution_count": null,
   "metadata": {},
   "outputs": [],
   "source": [
    "import numpy as np\n",
    "import cv2\n",
    "import matplotlib.pyplot as plt\n",
    "import matplotlib\n",
    "import scipy.stats as stats\n",
    "from ipywidgets import interact, fixed, widgets\n",
    "from mpl_toolkits.mplot3d import Axes3D\n",
    "from math import sin, cos, radians\n",
    "%matplotlib widget\n",
    "\n",
    "matplotlib.rcParams['figure.figsize'] = (6.0, 6.0)\n",
    "images_path = './images/'"
   ]
  },
  {
   "cell_type": "markdown",
   "metadata": {},
   "source": [
    "## 8.2.1 Why do we want this? Reason one\n",
    "\n",
    "Now that we know how homogenous coordinates and homogenous transformations works, it's time for understanding **why this is interesting**.\n",
    "\n",
    "For now, we were performing complete transformations (rotations and translations) by using a rotation matrix and adding a translation vector to the rotated points ($\\mathbf{p}' = \\mathbf{R}\\mathbf{p} + \\mathbf{t}$).\n",
    "\n",
    "The problem of this transformation is that the **concatenation of transformations** when a sequence of transformations has to be done becomes a mess:\n",
    "\n",
    "$\\hspace{2cm} \\mathbf{p}' = \\mathbf{R}_1\\mathbf{p}+\\mathbf{t}_1 \\\\ \\hspace{2cm} \\mathbf{p}'' = \\mathbf{R}_2\\mathbf{p}' + \\mathbf{t}_2 = \\mathbf{R}_2(\\mathbf{R}_1\\mathbf{p}+\\mathbf{t}_1) + \\mathbf{t}_2 = \\mathbf{R}_2\\mathbf{R}_1\\mathbf{p} + \\mathbf{R}_2\\mathbf{t}_1 + \\mathbf{t}_2$\n",
    "\n",
    "In the video game context, in hierarchical 3D models appearing in the scene, like a human figure, each body part's position depends on the transformations of its parent parts, so concatenations are necessary to ensure the correct relative positioning (e.g., the hand moves with the arm and shoulder). Without concatenation, moving one part independently would break the hierarchy, leading to unrealistic or disjointed animations.\n",
    "\n",
    "**What happens if we use homogenous coordinates?**\n",
    "\n",
    "We can express a transformation consisting of a rotation + translation using only a matrix multiplication:\n",
    "\n",
    "$$ \\mathbf{\\tilde{p}}' = \\mathbf{T}_1\\mathbf{\\tilde{p}} \\Rightarrow \\begin{bmatrix} x' \\\\ y' \\\\ z' \\\\ 1 \\end{bmatrix} = \\begin{bmatrix} r_{11} & r_{12} & r_{13} & t_x\\\\ r_{21} & r_{22} & r_{23} & t_y \\\\ r_{31} & r_{32} & r_{33} & t_z \\\\ 0 & 0 & 0 & 1 \\end{bmatrix} \\begin{bmatrix} x \\\\ y \\\\ z \\\\ 1 \\end{bmatrix} = \\begin{bmatrix} r_{11}x + r_{12}y + r_{13}z + t_x \\\\ r_{21}x + r_{22}y + r_{23}z + t_y \\\\ r_{31}x + r_{32}y + r_{33}z + t_z \\\\ 0x + 0y + 0z + 1 \\end{bmatrix} = \\begin{bmatrix} r_{11}x + r_{12}y + r_{13}z \\\\ r_{21}x + r_{22}y + r_{23}z \\\\ r_{31}x + r_{32}y + r_{33}z \\\\ 1 \\end{bmatrix} +  \\begin{bmatrix} t_x \\\\ t_y \\\\ t_z \\\\ 0 \\end{bmatrix}$$\n",
    "\n",
    "Note that the 3$\\times$3 left-top submatrix of the $\\mathbf{T}_1$ matrix is a rotation matrix while the last column contains the desired translation. \n",
    "This is the main reason for using homogeneous coordinates, look **how concatenation is applied now!**\n",
    "\n",
    "$\\hspace{02cm}  \\mathbf{\\tilde{p}}' = \\mathbf{T}_1\\mathbf{\\tilde{p}} \\\\\n",
    " \\hspace{2cm}  \\mathbf{\\tilde{p}}'' = \\mathbf{T}_2\\mathbf{\\tilde{p}}' = \\mathbf{T}_2\\mathbf{T}_1\\mathbf{\\tilde{p}}$\n",
    " \n",
    "**Concatenation becomes much easier**, being only consecutive matrix multiplications (remember that, nowadays, matrix multiplications are very fast using GPUs).\n",
    "\n",
    "Also in first-person video games, the camera transformation matrix is updated every frame (e.g., 60 times per second for 60 FPS) to reflect the latest position and orientation. Thanks to homogeneous coordinates, both rotation and translation can be efficiently applied in a single matrix operation, which is crucial for real-time performance."
   ]
  },
  {
   "cell_type": "markdown",
   "metadata": {},
   "source": [
    "**Let's play a bit with homogeneous coordinates**. We are going to apply a homogenous transformation to a 3D object (a set of 3D-points, in fact). For this, we have defined `data`$\\in \\mathbb{R}^4$, a **matrix containing more than 3k points in homogenous coordinates**:"
   ]
  },
  {
   "cell_type": "code",
   "execution_count": null,
   "metadata": {},
   "outputs": [],
   "source": [
    "# Load data\n",
    "data = np.load(\"./data/data.npy\")\n",
    "print('Number of points:', data.size/4)\n",
    "\n",
    "# Create figure\n",
    "fig = plt.figure()\n",
    "\n",
    "# Prepare figure for 3D data\n",
    "ax = plt.axes(projection='3d') \n",
    "\n",
    "# Name axes\n",
    "ax.set_xlabel('X axis')\n",
    "ax.set_ylabel('Y axis')\n",
    "ax.set_zlabel('Z axis')\n",
    "\n",
    "# Plot points\n",
    "ax.scatter(data[0,:], data[1,:], data[2,:]);"
   ]
  },
  {
   "cell_type": "markdown",
   "metadata": {},
   "source": [
    "## **<span style=\"color:green\"><b><i>ASSIGNMENT 1: Homogeneous transformations for the win</i></b></span>**\n",
    "\n",
    "Now, create a new method called `apply_homogeneous_transformation()` that builds a homogeneous matrix from some *yaw*, *pitch* and *roll* values as well as a translation vector and applies it to the input data matrix `data`. *Note that we are not transforming vectors, but points, so use [`scatter()`](https://matplotlib.org/mpl_toolkits/mplot3d/tutorial.html) instead of `quiver()`.*\n",
    "\n",
    "Notice that opposite to the euclidean case, here both rotation and translation are applied just with one matrix multiplication! (`t` in the following code).\n",
    "\n",
    "Recall the matrices defining the elemental rotations:\n",
    "\n",
    "$\\hspace{2cm}\\mathbf{R}_z(\\theta) = \\begin{bmatrix} cos\\theta & -sin\\theta & 0 \\\\ sin\\theta & cos\\theta & 0 \\\\ 0 & 0 & 1 \\end{bmatrix} \\hspace{1cm} \\mathbf{R}_y(\\theta) = \\begin{bmatrix} cos\\theta & 0 & sin\\theta \\\\ 0 & 1 & 0 \\\\ -sin\\theta & 0 & cos\\theta \\end{bmatrix} \\hspace{1cm} \\mathbf{R}_x(\\theta) = \\begin{bmatrix} 1 & 0 & 0 \\\\ 0 & cos\\theta & -sin\\theta \\\\ 0 & sin\\theta & cos\\theta \\end{bmatrix}\\\\[5pt]$\n"
   ]
  },
  {
   "cell_type": "code",
   "execution_count": null,
   "metadata": {},
   "outputs": [],
   "source": [
    "# ASSIGNMENT 7\n",
    "def apply_homogeneous_transformation(data, yaw, pitch, roll, translation):\n",
    "    \"\"\" Apply a linear transformation to a set of 3D-vectors and plot them\n",
    "        \n",
    "        Args:\n",
    "            data: Input set of points to transform\n",
    "            yaw: Degrees to rotate the coordinate system around the 'Z' axis \n",
    "            pitch: Degrees to rotate the coordinate system around the 'Y' axis \n",
    "            roll: Degrees to rotate the coordinate system around the 'X' axis \n",
    "            translation: Column vector containing the translation for each axis\n",
    "    \"\"\"   \n",
    "    # Write your code here!\n",
    "    \n",
    "    # Transform to radians\n",
    "    yaw = radians(None)\n",
    "    pitch = radians(None)\n",
    "    roll = radians(None)\n",
    "    \n",
    "    # Construct rotation matrices\n",
    "    Rx = np.array(None)\n",
    "    Ry = np.array(None)\n",
    "    Rz = np.array(None)\n",
    "    \n",
    "    # Combine rotation matrices\n",
    "    R = None\n",
    "    \n",
    "    # Create homogenous transformation matrix\n",
    "    t = np.zeros((4,4))\n",
    "    t[0:3,0:3] = None\n",
    "    t[0:3,3] = None\n",
    "    t[3,3] = None\n",
    "\n",
    "    transformed = None\n",
    "    \n",
    "    # Create figure\n",
    "    fig = plt.figure()\n",
    "\n",
    "    # Prepare figure for 3D data\n",
    "    ax = plt.axes(projection='3d') \n",
    "\n",
    "    # Name axes\n",
    "    ax.set_xlabel('X axis')\n",
    "    ax.set_ylabel('Y axis')\n",
    "    ax.set_zlabel('Z axis')\n",
    "\n",
    "    # Plot points\n",
    "    ax.scatter(transformed[None,None], transformed[None,None], transformed[None,None]);"
   ]
  },
  {
   "cell_type": "markdown",
   "metadata": {},
   "source": [
    "Now apply the following transformation to the object previously loaded:\n",
    "\n",
    "- **Yaw** rotation: 45 degrees\n",
    "- **Pitch** rotation: -60 degrees\n",
    "- **Roll** rotation: 20 degrees\n",
    "- **Translation**:\n",
    "    - $X$-axis: 20 units \n",
    "    - $Y$-axis: 20 units\n",
    "    - $Z$-axis: 40 units\n",
    "\n",
    "Remember that this is going to be performed only using a homogeneous transformation (one unique matrix multiplication)!"
   ]
  },
  {
   "cell_type": "code",
   "execution_count": null,
   "metadata": {},
   "outputs": [],
   "source": [
    "# Load data\n",
    "data = np.load(\"./data/data.npy\")\n",
    "\n",
    "# Apply transformation\n",
    "apply_homogeneous_transformation(data, None, None, None, [None,None,None])"
   ]
  },
  {
   "cell_type": "markdown",
   "metadata": {},
   "source": [
    "<font color='blue'>**Expected output:**  </font>\n",
    "\n",
    "<img src=\"./images/example_transformation_5b.png\" width=\"500\" align=\"left\"/>\n",
    "<img src=\"./images/blank.png\" width=\"100\" align=\"rigth\"/>"
   ]
  },
  {
   "cell_type": "markdown",
   "metadata": {},
   "source": [
    "By doing these transformations, our graphic engine could represent moving objects in the `WORLD` when the player is still (e.g. flying birds, cars, other players, etc.). \n",
    "\n",
    "### Checking execution time\n",
    "\n",
    "Just as a curiosity, let's check how much time is required by python to apply a transformation in both euclidean and homogeneous coordinates. *Note: take care with the length, if it is too large it could freeze your computer!*"
   ]
  },
  {
   "cell_type": "code",
   "execution_count": null,
   "metadata": {},
   "outputs": [],
   "source": [
    "# Set the number of points to transform\n",
    "length = 6000000 \n",
    "\n",
    "# Prepare data in Euclidean coordinates\n",
    "Pts = np.random.rand(3,length)\n",
    "R = np.random.rand(3,3)\n",
    "T = np.random.rand(3,1)\n",
    "\n",
    "# Prepare data in Homogeneous coordinates\n",
    "Ones = np.ones(length)\n",
    "Pts_H = np.row_stack((Pts,Ones))\n",
    "T_H = np.random.rand(4,4)\n",
    "\n",
    "import time\n",
    "\n",
    "# Apply euclidean transformation\n",
    "start_time = time.time()\n",
    "res = R@Pts+T\n",
    "print(\"Time spent with Euclidean tranformation: %s seconds ---\" % (time.time() - start_time))\n",
    "\n",
    "# Apply Homogeneous transformation\n",
    "start_time = time.time()\n",
    "res = T_H@Pts_H\n",
    "print(\"Time spent with Homogeneous tranformation: %s seconds ---\" % (time.time() - start_time))"
   ]
  },
  {
   "cell_type": "markdown",
   "metadata": {},
   "source": [
    "## **<span style=\"color:green\"><b><i>ASSIGNMENT 2: How the player sees the world</i></b></span>**\n",
    "\n",
    "One final example, consider the following image, in where our character Joel is looking at a dystopian, post-apocalyptic scenario. \n",
    "\n",
    "<img src=\"./images/tlou.png\" width=\"1200\" align=\"center\"/>"
   ]
  },
  {
   "cell_type": "markdown",
   "metadata": {},
   "source": [
    "The `WORLD` reference system is displayed in orange and labeled with {$\\mathbf{W}$} while the reference system of the character's view is displayed in red and labeled as {$\\mathbf{C}$}. We know that:\n",
    "\n",
    "- the position and orientation of {$\\mathbf{C}$} w.r.t. {$\\mathbf{W}$} is given by a *yaw* angle of -45º, a *roll* angle of -90 and a translation of \\[0.0,-4.0,1.2\\] meters in \\[$x$,$y$,$z$\\] axes, respectively, and\n",
    "- the coordinates of the point $\\mathbf{p}^W$ in the world are \\[30.0,1.0,0.5\\] meters. \n",
    "\n",
    "**Could you compute** what are its coordinates w.r.t our character's point of view in homogeneous coordinates ($\\tilde{\\mathbf{p}}^C$)? In other words, we have to build the homogeneous transformation $\\mathbf{T}$ that produces $\\mathbf{\\tilde{p}}^C = \\mathbf{T}\\mathbf{\\tilde{p}}^W$. As we will see in future notebooks, knowing such coordinates is vital to get the position of the 3D point **in the image** that Joel would see if this game were in first-person (fortunately it's not!)."
   ]
  },
  {
   "cell_type": "code",
   "execution_count": null,
   "metadata": {},
   "outputs": [],
   "source": [
    "# ASSIGNMENT 8\n",
    "# Write your code here!\n",
    "p = np.array([30,1,0.5,1])\n",
    "p = np.vstack(p)\n",
    "\n",
    "# Transform to radians\n",
    "yaw = radians(None)\n",
    "pitch = radians(None)\n",
    "roll = radians(None)\n",
    "\n",
    "# Construct rotation matrices\n",
    "Rx = np.array(None])\n",
    "Ry = np.array(None)\n",
    "Rz = np.array(None)\n",
    "\n",
    "# Combine rotation matrices\n",
    "R = None\n",
    "\n",
    "# Create homogenous transformation matrix\n",
    "t = np.zeros((4,4))\n",
    "t[0:3,0:3] = None\n",
    "t[0:3,3] = None\n",
    "t[3,3] = None\n",
    "\n",
    "transformed = np.linalg.inv(None) @ p\n",
    "print(transformed)"
   ]
  },
  {
   "cell_type": "markdown",
   "metadata": {},
   "source": [
    "<font color='blue'>**Expected output (homogeneous):**  </font> \n",
    "\n",
    "    [[17.67766953]\n",
    "     [ 0.7       ]\n",
    "     [24.74873734]\n",
    "     [ 1.        ]]"
   ]
  },
  {
   "cell_type": "markdown",
   "metadata": {},
   "source": [
    "### <font color=\"blue\"><b><i>Thinking about it (1)</i></b></font>\n",
    "\n",
    "**Now you are in a good position to answer these questions:**\n",
    "\n",
    "- What is the length of a 3D cartesian vector in homogeneous coordinates?\n",
    "\n",
    "    <p style=\"margin: 4px 0px 6px 5px; color:blue\"><i>Your answer here!</i></p>\n",
    "    \n",
    "- How many operations do you need to transform a point from the world frame to the camera one using euclidean coordinates?  and using homogeneous coordinates?\n",
    "\n",
    "    <p style=\"margin: 4px 0px 6px 5px; color:blue\"><i>Your answer here!</i></p>\n",
    "    \n",
    "- Explain the difference in the execution time when using the two types of transformations. \n",
    "\n",
    "    <p style=\"margin: 4px 0px 6px 5px; color:blue\"><i>Your answer here!</i></p>\n",
    "    \n",
    "- Why are the rotations applied in that order? Could they have been applied differently?\n",
    "\n",
    "    <p style=\"margin: 4px 0px 6px 5px; color:blue\"><i>Your answer here!</i></p>"
   ]
  },
  {
   "cell_type": "markdown",
   "metadata": {},
   "source": [
    "## 8.2.2 Why do we want this? Reason two\n",
    "\n",
    "There is another reason justifying the utilization of homogeneous coordinates when dealing with transformations: they result in a natural model for the camera, since points in the image plane are projection rays in $\\mathbb{R}^3$.\n",
    "\n",
    "**In 1D:**\n",
    "\n",
    "- Cartesian coordinates: $x=x_1=3$.\n",
    "- Homogeneous coordinates: $ x = \\begin{bmatrix}3 \\\\ 1\\end{bmatrix} \\equiv \\begin{bmatrix}6 \\\\ 2\\end{bmatrix} \\equiv \\begin{bmatrix}3k \\\\ k\\end{bmatrix}, \\ \\ k \\neq 0$\n",
    "\n",
    "All the points in homogeneous coordinates represents the same point in cartesians since $x=x_1/x_2=3$.\n",
    "\n",
    "**In 2D:**\n",
    "\n",
    "- Cartesian coordinates: $x=\\begin{bmatrix}x_1 \\\\ x_2\\end{bmatrix} \\in \\mathbb{R}^2$.\n",
    "- Homogeneous coordinates: $ x = k\\begin{bmatrix}x_2 \\\\ x_1 \\\\ 1\\end{bmatrix}, \\ \\ k \\neq 0$\n",
    "\n",
    "So in homogeneous coordinates, a point in the plane $\\mathbb{R}^2$ transforms to a line passing through the origin in a reference frame parallel to the image plane (perpendicular to $x_3$).\n",
    "\n",
    "The following code illustrates this for a 1D point."
   ]
  },
  {
   "cell_type": "code",
   "execution_count": null,
   "metadata": {},
   "outputs": [],
   "source": [
    "# 1D point\n",
    "x1 = 3\n",
    "plt.figure()\n",
    "plt.plot(x1,0,'rx')\n",
    "\n",
    "# Point in homogeneous\n",
    "x = np.array([3,1])\n",
    "\n",
    "# Equivalent points by multiplying by lambda\n",
    "for lambda_ in np.arange(0.5,4,0.5):\n",
    "    plt.plot(x[0]*lambda_,x[1]*lambda_,'bx')\n",
    "    \n",
    "plt.xlim(0)\n",
    "plt.show()"
   ]
  },
  {
   "cell_type": "markdown",
   "metadata": {},
   "source": [
    "## Conclusion\n",
    "\n",
    "Awesome!\n",
    "\n",
    "In his notebook we have learned:\n",
    "\n",
    "- The principles of homogeneous coordinates.\n",
    "- How to rotate and translate points or vectors using homogeneous coordinates.\n",
    "\n",
    "Let's keep learning!"
   ]
  }
 ],
 "metadata": {
  "kernelspec": {
   "display_name": "Python 3 (ipykernel)",
   "language": "python",
   "name": "python3"
  },
  "language_info": {
   "codemirror_mode": {
    "name": "ipython",
    "version": 3
   },
   "file_extension": ".py",
   "mimetype": "text/x-python",
   "name": "python",
   "nbconvert_exporter": "python",
   "pygments_lexer": "ipython3",
   "version": "3.10.7"
  },
  "varInspector": {
   "cols": {
    "lenName": 16,
    "lenType": 16,
    "lenVar": 40
   },
   "kernels_config": {
    "python": {
     "delete_cmd_postfix": "",
     "delete_cmd_prefix": "del ",
     "library": "var_list.py",
     "varRefreshCmd": "print(var_dic_list())"
    },
    "r": {
     "delete_cmd_postfix": ") ",
     "delete_cmd_prefix": "rm(",
     "library": "var_list.r",
     "varRefreshCmd": "cat(var_dic_list()) "
    }
   },
   "types_to_exclude": [
    "module",
    "function",
    "builtin_function_or_method",
    "instance",
    "_Feature"
   ],
   "window_display": false
  }
 },
 "nbformat": 4,
 "nbformat_minor": 4
}
