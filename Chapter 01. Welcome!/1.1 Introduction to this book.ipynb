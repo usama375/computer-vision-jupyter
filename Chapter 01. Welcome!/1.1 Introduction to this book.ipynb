{
 "cells": [
  {
   "cell_type": "markdown",
   "metadata": {},
   "source": [
    "# 1. Welcome"
   ]
  },
  {
   "cell_type": "markdown",
   "metadata": {},
   "source": [
    "[Table of contents](./1.2%20Table%20of%20contents.ipynb)"
   ]
  },
  {
   "cell_type": "markdown",
   "metadata": {},
   "source": [
    "This book addresses the fundamental topics of computer vision in a *interactive spirit*. It is implemented using the **Jupyter Notebook** technology, so the *reader* can, in addition to learn the theory behind core computer vision techniques, experiment those techniques by playing with their code and execution (if this is your first time with Jupyter notebooks, [this one](../Chapter%2012.%20Appendices/1.%20Introduction%20to%20Jupyter%20and%20Python.ipynb) in the book's appendices could help you to gain insight into them). It is divided into chapters, and each chapter covers a different computer vision problem, e.g. edge detection, region segmentation, stereo vision, etc. (for an exhaustive list, take a look at the [Table of contents](./1.2%20Table%20of%20contents.ipynb)).\n",
    "\n",
    "But let's start from the beginning! "
   ]
  },
  {
   "cell_type": "markdown",
   "metadata": {},
   "source": [
    "## 1.1 What's computer vision?\n",
    "\n",
    "Some possible definitions are:\n",
    "- The process to **extract information** from images using a computer (software).\n",
    "- A system that performs the **tasks that human vision does**. These tasks can go from the detection of simple objects to the understanding of a whole, complex scene (see Fig. 1. and Fig. 2).\n",
    "\n",
    "$\\\\[2pt]$\n",
    "<center><img src=\"./images/computer_vision_input_and_output.png\" width=600></center>\n",
    "$\\\\[2pt]$\n",
    "<center><i>Fig 1. Input and output of a typical computer vision system.</i></center>\n",
    "$\\\\[2pt]$\n",
    "<center><img src=\"./images/scene_understanding_example.png\" width=550/></center>\n",
    "$\\\\[2pt]$\n",
    "<center><i>Fig 2. Scene understanding example.</i></center>\n",
    "\n",
    "Computer vision encompasses tools from other well-known fields:\n",
    "- **Image processing** (IP): image smoothing, image enhancement, etc.\n",
    "- **Machine learning** (ML): classification models, detection algorithms, etc.\n",
    "- **Computer graphics** (CG): camera models, illumination models, etc.\n",
    "\n",
    "In its turn, each computer vision problem may require different intervention of tools from these fields. For example:\n",
    "- Face detection: &#8593; IP, &#8593; ML, &#8595; CG\n",
    "- Camera localization: &#8595; IP, &#8595; ML, &#8593; CG\n",
    "- Industrial inspection: &#8593; IP, &#8595; ML, &#8595; CG\n",
    "\n",
    "For example, giving more details about the face detection problem, typically, image processing techniques are used to improve the quality of the image being analyzed, while a machine learning model is in charge of deciding the areas of said improved image that containing faces.\n",
    "\n",
    "The computer vision techniques addressing these problems enable a wide range of **real world applications**. To name a few:\n",
    "\n",
    "- Industry (production lines),\n",
    "- Medicine (image lab analysis like cell counting or cell health, diagnosis through echography or magnetic resonance, etc.),\n",
    "- Security, surveillance,\n",
    "- Driving assistance,\n",
    "- Robotics (visual guidance of robot arms, automatic visual navigation of robots, knowledge acquisition from the environment, etc.),\n",
    "- Entertaining, gaming,\n",
    "- Human-computer interface, etc.\n",
    "\n",
    "However, despite the promising outlook of these technologies, computer vision has a hidden side..."
   ]
  },
  {
   "cell_type": "markdown",
   "metadata": {},
   "source": [
    "## 1.2 Why is computer vision difficult?\n",
    "\n",
    "It may seem that extract information from an image is not a big challenge. Indeed, for humans it is a straightforward task. However, for a computer, which interprets an image as a matrix, things get complicated. \n",
    "\n",
    "For example, you have no problem in interpreting the object in this image as a (pretty) flower:\n",
    "\n",
    "$\\\\[2pt]$\n",
    "<center><img src=\"./images/flower.jpg\" width=350/></center>\n",
    "$\\\\[2pt]$\n",
    "<center><i>Fig 3. Example of an image containing a flower.</i></center>\n",
    "\n",
    "But how does a computer sees this image? Execute the following code cell to discover it!"
   ]
  },
  {
   "cell_type": "code",
   "execution_count": 1,
   "metadata": {
    "scrolled": true,
    "tags": []
   },
   "outputs": [
    {
     "ename": "ModuleNotFoundError",
     "evalue": "No module named 'numpy'",
     "output_type": "error",
     "traceback": [
      "\u001b[31m---------------------------------------------------------------------------\u001b[39m",
      "\u001b[31mModuleNotFoundError\u001b[39m                       Traceback (most recent call last)",
      "\u001b[36mCell\u001b[39m\u001b[36m \u001b[39m\u001b[32mIn[1]\u001b[39m\u001b[32m, line 1\u001b[39m\n\u001b[32m----> \u001b[39m\u001b[32m1\u001b[39m \u001b[38;5;28;01mimport\u001b[39;00m\u001b[38;5;250m \u001b[39m\u001b[34;01mnumpy\u001b[39;00m\u001b[38;5;250m \u001b[39m\u001b[38;5;28;01mas\u001b[39;00m\u001b[38;5;250m \u001b[39m\u001b[34;01mnp\u001b[39;00m\n\u001b[32m      2\u001b[39m \u001b[38;5;28;01mimport\u001b[39;00m\u001b[38;5;250m \u001b[39m\u001b[34;01mcv2\u001b[39;00m\n\u001b[32m      4\u001b[39m images_path = \u001b[33m'\u001b[39m\u001b[33m./images/\u001b[39m\u001b[33m'\u001b[39m\n",
      "\u001b[31mModuleNotFoundError\u001b[39m: No module named 'numpy'"
     ]
    }
   ],
   "source": [
    "import numpy as np\n",
    "import cv2\n",
    "\n",
    "images_path = './images/'\n",
    "np.set_printoptions(threshold=np.inf)\n",
    "\n",
    "# Read grayscale image \n",
    "image = cv2.imread(images_path + 'flower_low.jpg',cv2.IMREAD_GRAYSCALE)\n",
    "# Print it\n",
    "print(image)"
   ]
  },
  {
   "cell_type": "markdown",
   "metadata": {},
   "source": [
    "Indeed, you have checked how the computer sees a grayscale, downsized version of the image containing our nice flower. However, the amount of numerical information to be interpreted is huge. Could you detect the flower behind the numbers? If you could, please let the world know that! \n",
    "\n",
    "Additionally, a number of issues hamper the information extraction process:\n",
    "- **Indetermination** in the projection from the real word into an image and vice versa: \n",
    "  - one image is not enough to draw conclusions about depth.\n",
    "  - There may be infinitively many interpretations for an image.\n",
    "- **Noise**: images are affected by noise of different nature.\n",
    "- **Light** makes the difference: the appearance of an object may vary depending on the illumination conditions, so it must be controlled if possible.\n",
    "- Several **factors are coupled**. For example, the color and texture of an object, its shape, and the lighting conditions may influence the pixel intensity in the image. \n",
    "- Immense **amount of data**:\n",
    "    - Color image: about 3 MB (768x1024x3 bytes).\n",
    "    - Video sequence: about 75 MB/s (30 images/s.).\n",
    "    - In many applications it is needed to also process this huge amount of data fast (real time > 30Hz)."
   ]
  },
  {
   "cell_type": "markdown",
   "metadata": {},
   "source": [
    "## 1.3 In this book\n",
    "\n",
    "In this book, we will learn how computer vision techniques deal with those issues, and how they are applied to solve real world problems and challenges. Exciting, isn't it?\n",
    "\n",
    "**Let the journey begin! Enjoy!**"
   ]
  }
 ],
 "metadata": {
  "kernelspec": {
   "display_name": ".venv",
   "language": "python",
   "name": "python3"
  },
  "language_info": {
   "codemirror_mode": {
    "name": "ipython",
    "version": 3
   },
   "file_extension": ".py",
   "mimetype": "text/x-python",
   "name": "python",
   "nbconvert_exporter": "python",
   "pygments_lexer": "ipython3",
   "version": "3.13.7"
  },
  "varInspector": {
   "cols": {
    "lenName": 16,
    "lenType": 16,
    "lenVar": 40
   },
   "kernels_config": {
    "python": {
     "delete_cmd_postfix": "",
     "delete_cmd_prefix": "del ",
     "library": "var_list.py",
     "varRefreshCmd": "print(var_dic_list())"
    },
    "r": {
     "delete_cmd_postfix": ") ",
     "delete_cmd_prefix": "rm(",
     "library": "var_list.r",
     "varRefreshCmd": "cat(var_dic_list()) "
    }
   },
   "types_to_exclude": [
    "module",
    "function",
    "builtin_function_or_method",
    "instance",
    "_Feature"
   ],
   "window_display": false
  }
 },
 "nbformat": 4,
 "nbformat_minor": 4
}
